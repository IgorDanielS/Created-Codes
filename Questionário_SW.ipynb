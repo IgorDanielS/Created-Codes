{
  "nbformat": 4,
  "nbformat_minor": 0,
  "metadata": {
    "colab": {
      "name": "Questionário SW",
      "provenance": [],
      "collapsed_sections": [],
      "authorship_tag": "ABX9TyOZz/gCKtT7/RKBUbAaxrFF",
      "include_colab_link": true
    },
    "kernelspec": {
      "name": "python3",
      "display_name": "Python 3"
    },
    "language_info": {
      "name": "python"
    }
  },
  "cells": [
    {
      "cell_type": "markdown",
      "metadata": {
        "id": "view-in-github",
        "colab_type": "text"
      },
      "source": [
        "<a href=\"https://colab.research.google.com/github/IgorDaniel182/Created-Codes/blob/main/Question%C3%A1rio_SW.ipynb\" target=\"_parent\"><img src=\"https://colab.research.google.com/assets/colab-badge.svg\" alt=\"Open In Colab\"/></a>"
      ]
    },
    {
      "cell_type": "code",
      "metadata": {
        "id": "XQAhR2nbigOl"
      },
      "source": [
        "#Treinando condições em uma história\n",
        "print(\"Bom dia! Vamos começar o questionário sobre Star Wars(SW)!\")\n",
        "criador = int(input(\"-Quem foi o criador de Star Wars? (Nome completo) \\n 1- Lucas Filmes \\n 2- George Walton Lucas Junior \\n 3- Washington Marcos \\n\"))\n",
        "if criador == 2:\n",
        "  print(\"Correto!\")\n",
        "else:\n",
        "  print(\"Errou! Foi George Walton Lucas Junior!\")\n",
        "longas = int(input(\"-Quantos longas(Filmes) tem SW? \\n 1- 12 longas \\n 2- 13 longas \\n 3- 11 longas \\n\"))\n",
        "if longas == 3:\n",
        "  print(\"Acertou miseravi!\")\n",
        "else:\n",
        "  print(\"Errou, padawan! Foram 11 longas...\")\n",
        "mao = int(input(\"-O que Luke Skywalker perdeu em sua luta com Darth Vader? \\n 1- a mão esquerda \\n 2- a mão direita \\n 3- o braço direito \\n\"))\n",
        "if mao == 2:\n",
        "  print(\"Acertou! Luke acabou perdendo a mão direita...\")\n",
        "else:\n",
        "  print(\"Errou! Luke perdeu a mão direita na luta contra Darth Vader\")\n",
        "frase = int(input(\"-Qual é a frase ICÔNICA que Darth Vader fala para Luke Skywalker? \\n 1- I am your father! \\n 2- Luke, I'm Your father! \\n 3- I'm you father! \\n\"))\n",
        "if frase == 1:\n",
        "  print(\"Acertou!! 'Noooooooooooooooooooooooooo'\")\n",
        "else: \n",
        "  print(\"POOOOOOOXA, errou :( Darth vader fala: 'I am your father' \")\n",
        "fraqueza = int(input(\"-De acordo com o Imperador, qual era a fraqueza de Luke Skywalker? \\n 1- Sua fé no Lado leve da Força \\n 2- A falta de visão dele \\n 3- Sua fé em seus amigos \\n\"))\n",
        "if fraqueza == 2:\n",
        "  print(\"Isso mesmo! A fé nos seus amigos 'torna' Luke fraco\")\n",
        "else:\n",
        "  print(\"Errooou! A fé em seus amigos é a fraqueza de Luke, de acordo com o Imperador\")\n",
        "guerra = int(input(\"-Onde as Guerras Clônicas começaram? \\n 1- Tatooine \\n 2- Naboo \\n 3- Geonosis \\n\"))\n",
        "if guerra == 3:\n",
        "  print(\"PEW PEW, isso mesmo!\")\n",
        "else:\n",
        "  print(\"Errouuu! As Guerras Clônicas começaram em Geonosis!\")\n",
        "arma = int(input(\"-Qual é a arma de escolha de Chewbacca? \\n 1- Rifle Blaster \\n 2- Bowcaster \\n 3- Sabre de luz \\n\"))\n",
        "if arma == 2:\n",
        "  print(\"Yes baby! Chewbacca atirava flechas com luz neon hehe\")\n",
        "elif arma == 3:\n",
        "  print(\"Danosse kkkkkkkkk calma ai jovem...\")\n",
        "else: \n",
        "  print(\"Errou rude :( chewbacca usava um Bowcaster!\")\n",
        "print(\"bom dia\")\n",
        "\n",
        " "
      ],
      "execution_count": null,
      "outputs": []
    }
  ]
}