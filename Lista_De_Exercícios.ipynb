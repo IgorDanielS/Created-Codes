{
  "nbformat": 4,
  "nbformat_minor": 0,
  "metadata": {
    "colab": {
      "name": "Lista De Exercícios",
      "provenance": [],
      "collapsed_sections": [],
      "authorship_tag": "ABX9TyM+OCOcdShmWPiUXvQlzARk",
      "include_colab_link": true
    },
    "kernelspec": {
      "name": "python3",
      "display_name": "Python 3"
    },
    "language_info": {
      "name": "python"
    }
  },
  "cells": [
    {
      "cell_type": "markdown",
      "metadata": {
        "id": "view-in-github",
        "colab_type": "text"
      },
      "source": [
        "<a href=\"https://colab.research.google.com/github/IgorDaniel182/Created-Codes/blob/main/Lista_De_Exerc%C3%ADcios.ipynb\" target=\"_parent\"><img src=\"https://colab.research.google.com/assets/colab-badge.svg\" alt=\"Open In Colab\"/></a>"
      ]
    },
    {
      "cell_type": "code",
      "metadata": {
        "id": "imKuR3xZZ-_E"
      },
      "source": [
        "nu1 = float(input(\"Escolha um numero: \"))\n",
        "nu2 = float(input(\"Escolha outro numero: \"))\n",
        "if nu1 > nu2:\n",
        "  print(nu1)\n",
        "else:\n",
        "  print(nu2)"
      ],
      "execution_count": null,
      "outputs": []
    },
    {
      "cell_type": "code",
      "metadata": {
        "colab": {
          "base_uri": "https://localhost:8080/"
        },
        "id": "lcy_ma5Qbgye",
        "outputId": "1be85187-4c80-4c88-ef83-c85e7002717a"
      },
      "source": [
        "nu = float(input(\"Escola um número: \"))\n",
        "if nu >= 1:\n",
        "  print(\"Seu número é positivo!\")\n",
        "elif nu == 0:\n",
        "  print(\"Seu número é neutro\")\n",
        "else:\n",
        "  print(\"Seu número é negativo!\")"
      ],
      "execution_count": null,
      "outputs": [
        {
          "output_type": "stream",
          "name": "stdout",
          "text": [
            "Escola um número: 1\n",
            "Seu número é positivo!\n"
          ]
        }
      ]
    },
    {
      "cell_type": "code",
      "metadata": {
        "colab": {
          "base_uri": "https://localhost:8080/"
        },
        "id": "gsoBVHmGeRXm",
        "outputId": "58e8f6c5-a3cc-4177-b539-bc72a8405b5d"
      },
      "source": [
        "#Digitar a letra F ou M e dizer que para F = Femminina ou M para m = Masculina\n",
        "letra = input(\"Digite uma letra:\")\n",
        "letra1 = letra.title()\n",
        "if letra1 == \"F\":\n",
        "  print(\"A letra digitada é {} de Feminina S2\".format(letra1))\n",
        "elif letra1 == \"M\" :\n",
        "  print(\"A letra digitada é {} de Masculina :)\".format(letra1))\n",
        "else:\n",
        "  print(\"Sexo inválido\")"
      ],
      "execution_count": 4,
      "outputs": [
        {
          "output_type": "stream",
          "name": "stdout",
          "text": [
            "Digite uma letra: m\n",
            "A letra digitada é M de Masculina :)\n"
          ]
        }
      ]
    },
    {
      "cell_type": "code",
      "metadata": {
        "colab": {
          "base_uri": "https://localhost:8080/"
        },
        "id": "AjpSLMqd4Q3p",
        "outputId": "947234c4-618b-4636-f16d-92aaf749407b"
      },
      "source": [
        "# Vogal Ou Consoante\n",
        "letra = input(\"Digite uma letra: \")\n",
        "letra1 = letra.title()\n",
        "Vogal = ['A','E','I','O','U']\n",
        "if letra1 in Vogal:\n",
        "  print(f\"Essa letra, '{letra1}' é uma vogal!\")\n",
        "else:\n",
        "  print(f\"Essa letra, '{letra1}' é uma consoante!\")"
      ],
      "execution_count": null,
      "outputs": [
        {
          "output_type": "stream",
          "name": "stdout",
          "text": [
            "Digite uma letra: g\n",
            "Essa letra, 'G' é uma consoante!\n"
          ]
        }
      ]
    },
    {
      "cell_type": "code",
      "metadata": {
        "colab": {
          "base_uri": "https://localhost:8080/"
        },
        "id": "w3XG-DkPAzHx",
        "outputId": "1a145a7d-588d-417f-81c9-baca040a0c77"
      },
      "source": [
        "#Comparação, do exercicio de cima, de V/C do stackoverflow\n",
        "#Adicionado: \"or alfa == X\"\n",
        "alfa = input(\"Informe uma letra ou consoante:\")\n",
        "\n",
        "if alfa ==\"a\" or alfa == \"A\":\n",
        "    print(\"Vogal\")\n",
        "elif alfa == \"e\" or alfa == \"E\":\n",
        "    print(\"Vogal\")\n",
        "elif alfa == \"i\" or alfa == \"I\":\n",
        "    print(\"Vogal\")\n",
        "elif alfa == \"o\" or alfa == \"O\":\n",
        "    print(\"Vogal\")\n",
        "elif alfa == \"u\" or alfa == \"U\":\n",
        "    print(\"Vogal\")\n",
        "    print(\"Insira uma letra ou consoante\")\n",
        "else:\n",
        "    print(\"Consoante\")"
      ],
      "execution_count": null,
      "outputs": [
        {
          "output_type": "stream",
          "name": "stdout",
          "text": [
            "Informe uma letra ou consoante:a\n",
            "Vogal\n"
          ]
        }
      ]
    },
    {
      "cell_type": "code",
      "metadata": {
        "id": "Hl7UXwMjDTJr"
      },
      "source": [
        "nota1 = float(input(\"Digite a sua primeira nota: \"))\n",
        "nota2 = float(input(\"Digite a sua segunda nota: \"))\n",
        "media = (nota1+nota2)/2\n",
        "if media >= 7 and media < 10:\n",
        "  print(\"Você, que tirou {} na primeira nota e {} na segunda nota, ficou com média {} e foi Aprovado!\".format(nota1,nota2,media))\n",
        "elif media < 7:\n",
        "    print(\"Você, que tirou {} na primeira nota e {} na segunda nota, ficou com média {} e foi Reprovado!\".format(nota1,nota2,media))\n",
        "elif media == 10:\n",
        "    print(\"Você, que tirou {} na primeira nota e {} na segunda nota, ficou com média {} e foi Aprovado com Distinção!\".format(nota1,nota2,media))"
      ],
      "execution_count": null,
      "outputs": []
    },
    {
      "cell_type": "code",
      "metadata": {
        "id": "BBI1OhkW3SEu"
      },
      "source": [
        "#Maior e menor número 1° Tentativa\n",
        "num1 = float(input(\"Digite um numero: \"))\n",
        "num2 = float(input(\"Digite outro numero: \"))\n",
        "num3 = float(input(\"Digite outro numero: \"))\n",
        "if num1 > num2:\n",
        "  num1 = num11\n",
        "  if num11 > num3:\n",
        "  print(f\"maior numero {num11}\")\n",
        "#Pensar numa forma mais fácil"
      ],
      "execution_count": null,
      "outputs": []
    },
    {
      "cell_type": "code",
      "metadata": {
        "id": "L9khxLLlpzCy"
      },
      "source": [
        "#Maior e menor número 1° Forma sem dar o valor do menor número\n",
        "num1 = float(input(\"Digite um numero: \"))\n",
        "num2 = float(input(\"Digite outro numero: \"))\n",
        "num3 = float(input(\"Digite outro numero: \"))\n",
        "if num1 > num2 and num1 > num3:\n",
        "  print(f\"O maior número é: {num1}\")\n",
        "elif num2 > num1 and num2 > num3:\n",
        "  print(f\"O maior número é: {num2}\")\n",
        "elif num3 > num1 and num3 > num2:\n",
        "  print(f\"O maior número é: {num3}\")\n",
        "else:\n",
        "  print(\"Erro no sistema, alguém me desconfigurou :( \")"
      ],
      "execution_count": null,
      "outputs": []
    },
    {
      "cell_type": "code",
      "metadata": {
        "colab": {
          "base_uri": "https://localhost:8080/"
        },
        "id": "xmjXp1LS41U6",
        "outputId": "37eb6c3f-deea-440d-9b9d-90793aadf226"
      },
      "source": [
        "#Maior e menor número 2° Forma dando o valor do menor número\n",
        "num1 = float(input(\"Digite um numero: \"))\n",
        "num2 = float(input(\"Digite outro numero: \"))\n",
        "num3 = float(input(\"Digite outro numero: \"))\n",
        "if num1 > num2 and num1 > num3:\n",
        "  print(f\"O maior número é: {num1}\")\n",
        "elif num2 > num1 and num2 > num3:\n",
        "  print(f\"O maior número é: {num2}\")\n",
        "elif num3 > num1 and num3 > num2:\n",
        "  print(f\"O maior número é: {num3}\")\n",
        "else:\n",
        "  print(\"Erro\")\n",
        "if num1 < num2 and num1 < num3:\n",
        "  print(f\"O menor número é: {num1}\")\n",
        "elif num2 < num1 and num2 < num3:\n",
        "  print(f\"O menor número é: {num2}\")\n",
        "elif num3 < num1 and num3 < num2:\n",
        "  print(f\"O menor número é: {num3}\")\n",
        "else:\n",
        "  print(\"Erro no sistema, alguém me desconfigurou :( \")"
      ],
      "execution_count": 12,
      "outputs": [
        {
          "output_type": "stream",
          "name": "stdout",
          "text": [
            "Digite um numero: 21\n",
            "Digite outro numero: 2\n",
            "Digite outro numero: 5\n",
            "O maior número é: 21.0\n",
            "O menor número é: 2.0\n"
          ]
        }
      ]
    },
    {
      "cell_type": "code",
      "metadata": {
        "id": "k0FC_sLn2_P3"
      },
      "source": [
        "#Maior e menor número 3° Forma\n",
        "x = 0\n",
        "a = float(input(\"Digite um número: \"))\n",
        "y = a\n",
        "if a > x:\n",
        "  x = a\n",
        "\n",
        "b = float(input(\"Digite um número: \"))\n",
        "if b > x:\n",
        "  x = b\n",
        "elif b < y:\n",
        "  y = b \n",
        "\n",
        "c = float(input(\"Digite um número: \"))\n",
        "if c > x:\n",
        "  x = c\n",
        "elif c < y:\n",
        "  y = c \n",
        "print(\"O maior número: \",x)\n",
        "print(\"Menor número: \",y)"
      ],
      "execution_count": null,
      "outputs": []
    },
    {
      "cell_type": "code",
      "metadata": {
        "id": "97ekVR0w3F3p"
      },
      "source": [
        ""
      ],
      "execution_count": null,
      "outputs": []
    }
  ]
}