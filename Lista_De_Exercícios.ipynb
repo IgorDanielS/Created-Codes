{
  "nbformat": 4,
  "nbformat_minor": 0,
  "metadata": {
    "colab": {
      "name": "Lista De Exercícios",
      "provenance": [],
      "collapsed_sections": [],
      "authorship_tag": "ABX9TyP4+ckPvsArvlLSrJvNmONb",
      "include_colab_link": true
    },
    "kernelspec": {
      "name": "python3",
      "display_name": "Python 3"
    },
    "language_info": {
      "name": "python"
    }
  },
  "cells": [
    {
      "cell_type": "markdown",
      "metadata": {
        "id": "view-in-github",
        "colab_type": "text"
      },
      "source": [
        "<a href=\"https://colab.research.google.com/github/IgorDaniel182/Created-Codes/blob/main/Lista_De_Exerc%C3%ADcios.ipynb\" target=\"_parent\"><img src=\"https://colab.research.google.com/assets/colab-badge.svg\" alt=\"Open In Colab\"/></a>"
      ]
    },
    {
      "cell_type": "code",
      "metadata": {
        "id": "imKuR3xZZ-_E"
      },
      "source": [
        "nu1 = float(input(\"Escolha um numero: \"))\n",
        "nu2 = float(input(\"Escolha outro numero: \"))\n",
        "if nu1 > nu2:\n",
        "  print(nu1)\n",
        "else:\n",
        "  print(nu2)"
      ],
      "execution_count": null,
      "outputs": []
    },
    {
      "cell_type": "code",
      "metadata": {
        "colab": {
          "base_uri": "https://localhost:8080/"
        },
        "id": "lcy_ma5Qbgye",
        "outputId": "1be85187-4c80-4c88-ef83-c85e7002717a"
      },
      "source": [
        "nu = float(input(\"Escola um número: \"))\n",
        "if nu >= 1:\n",
        "  print(\"Seu número é positivo!\")\n",
        "elif nu == 0:\n",
        "  print(\"Seu número é neutro\")\n",
        "else:\n",
        "  print(\"Seu número é negativo!\")"
      ],
      "execution_count": null,
      "outputs": [
        {
          "output_type": "stream",
          "name": "stdout",
          "text": [
            "Escola um número: 1\n",
            "Seu número é positivo!\n"
          ]
        }
      ]
    },
    {
      "cell_type": "code",
      "metadata": {
        "colab": {
          "base_uri": "https://localhost:8080/"
        },
        "id": "gsoBVHmGeRXm",
        "outputId": "58e8f6c5-a3cc-4177-b539-bc72a8405b5d"
      },
      "source": [
        "#Digitar a letra F ou M e dizer que para F = Femminina ou M para m = Masculina\n",
        "letra = input(\"Digite uma letra:\")\n",
        "letra1 = letra.title()\n",
        "if letra1 == \"F\":\n",
        "  print(\"A letra digitada é {} de Feminina S2\".format(letra1))\n",
        "elif letra1 == \"M\" :\n",
        "  print(\"A letra digitada é {} de Masculina :)\".format(letra1))\n",
        "else:\n",
        "  print(\"Sexo inválido\")"
      ],
      "execution_count": null,
      "outputs": [
        {
          "output_type": "stream",
          "name": "stdout",
          "text": [
            "Digite uma letra: m\n",
            "A letra digitada é M de Masculina :)\n"
          ]
        }
      ]
    },
    {
      "cell_type": "code",
      "metadata": {
        "colab": {
          "base_uri": "https://localhost:8080/"
        },
        "id": "AjpSLMqd4Q3p",
        "outputId": "bf10798a-a29b-4c8a-949c-ce763e4482ce"
      },
      "source": [
        "# Vogal Ou Consoante\n",
        "letra = input(\"Digite uma letra: \")\n",
        "letra1 = letra.title()\n",
        "Vogal = ['A','E','I','O','U']\n",
        "if letra1 in Vogal:\n",
        "  print(f\"Essa letra, {letra1} é uma vogal!\")\n",
        "else:\n",
        "  print(f\"Essa letra, {letra1} é uma consoante!\")"
      ],
      "execution_count": null,
      "outputs": [
        {
          "output_type": "stream",
          "name": "stdout",
          "text": [
            "Digite uma letra: b\n",
            "Essa letra, B é uma consoante!\n"
          ]
        }
      ]
    },
    {
      "cell_type": "code",
      "metadata": {
        "colab": {
          "base_uri": "https://localhost:8080/"
        },
        "id": "w3XG-DkPAzHx",
        "outputId": "1a145a7d-588d-417f-81c9-baca040a0c77"
      },
      "source": [
        "#Comparação, do exercicio de cima, de V/C do stackoverflow\n",
        "#Adicionado: \"or alfa == X\"\n",
        "alfa = input(\"Informe uma letra ou consoante:\")\n",
        "\n",
        "if alfa ==\"a\" or alfa == \"A\":\n",
        "    print(\"Vogal\")\n",
        "elif alfa == \"e\" or alfa == \"E\":\n",
        "    print(\"Vogal\")\n",
        "elif alfa == \"i\" or alfa == \"I\":\n",
        "    print(\"Vogal\")\n",
        "elif alfa == \"o\" or alfa == \"O\":\n",
        "    print(\"Vogal\")\n",
        "elif alfa == \"u\" or alfa == \"U\":\n",
        "    print(\"Vogal\")\n",
        "    print(\"Insira uma letra ou consoante\")\n",
        "else:\n",
        "    print(\"Consoante\")"
      ],
      "execution_count": null,
      "outputs": [
        {
          "output_type": "stream",
          "name": "stdout",
          "text": [
            "Informe uma letra ou consoante:a\n",
            "Vogal\n"
          ]
        }
      ]
    },
    {
      "cell_type": "code",
      "metadata": {
        "id": "Hl7UXwMjDTJr"
      },
      "source": [
        "nota1 = float(input(\"Digite a sua primeira nota: \"))\n",
        "nota2 = float(input(\"Digite a sua segunda nota: \"))\n",
        "media = (nota1+nota2)/2\n",
        "if media >= 7 and media < 10:\n",
        "  print(\"Você, que tirou {} na primeira nota e {} na segunda nota, ficou com média {} e foi Aprovado!\".format(nota1,nota2,media))\n",
        "elif media < 7:\n",
        "    print(\"Você, que tirou {} na primeira nota e {} na segunda nota, ficou com média {} e foi Reprovado!\".format(nota1,nota2,media))\n",
        "elif media == 10:\n",
        "    print(\"Você, que tirou {} na primeira nota e {} na segunda nota, ficou com média {} e foi Aprovado com Distinção!\".format(nota1,nota2,media))"
      ],
      "execution_count": null,
      "outputs": []
    },
    {
      "cell_type": "code",
      "metadata": {
        "id": "BBI1OhkW3SEu"
      },
      "source": [
        "#Maior e menor número 1° Tentativa\n",
        "num1 = float(input(\"Digite um numero: \"))\n",
        "num2 = float(input(\"Digite outro numero: \"))\n",
        "num3 = float(input(\"Digite outro numero: \"))\n",
        "if num1 > num2:\n",
        "  num1 = num11\n",
        "  if num11 > num3:\n",
        "  print(f\"maior numero {num11}\")\n",
        "#Pensar numa forma mais fácil"
      ],
      "execution_count": null,
      "outputs": []
    },
    {
      "cell_type": "code",
      "metadata": {
        "id": "L9khxLLlpzCy"
      },
      "source": [
        "#Maior e menor número 1° Forma sem dar o valor do menor número\n",
        "num1 = float(input(\"Digite um numero: \"))\n",
        "num2 = float(input(\"Digite outro numero: \"))\n",
        "num3 = float(input(\"Digite outro numero: \"))\n",
        "if num1 > num2 and num1 > num3:\n",
        "  print(f\"O maior número é: {num1}\")\n",
        "elif num2 > num1 and num2 > num3:\n",
        "  print(f\"O maior número é: {num2}\")\n",
        "elif num3 > num1 and num3 > num2:\n",
        "  print(f\"O maior número é: {num3}\")\n",
        "else:\n",
        "  print(\"Erro no sistema, alguém me desconfigurou :( \")"
      ],
      "execution_count": null,
      "outputs": []
    },
    {
      "cell_type": "code",
      "metadata": {
        "colab": {
          "base_uri": "https://localhost:8080/"
        },
        "id": "xmjXp1LS41U6",
        "outputId": "37eb6c3f-deea-440d-9b9d-90793aadf226"
      },
      "source": [
        "#Maior e menor número 2° Forma dando o valor do menor número\n",
        "num1 = float(input(\"Digite um numero: \"))\n",
        "num2 = float(input(\"Digite outro numero: \"))\n",
        "num3 = float(input(\"Digite outro numero: \"))\n",
        "if num1 > num2 and num1 > num3:\n",
        "  print(f\"O maior número é: {num1}\")\n",
        "elif num2 > num1 and num2 > num3:\n",
        "  print(f\"O maior número é: {num2}\")\n",
        "elif num3 > num1 and num3 > num2:\n",
        "  print(f\"O maior número é: {num3}\")\n",
        "else:\n",
        "  print(\"Erro\")\n",
        "if num1 < num2 and num1 < num3:\n",
        "  print(f\"O menor número é: {num1}\")\n",
        "elif num2 < num1 and num2 < num3:\n",
        "  print(f\"O menor número é: {num2}\")\n",
        "elif num3 < num1 and num3 < num2:\n",
        "  print(f\"O menor número é: {num3}\")\n",
        "else:\n",
        "  print(\"Erro no sistema, alguém me desconfigurou :( \")"
      ],
      "execution_count": null,
      "outputs": [
        {
          "output_type": "stream",
          "name": "stdout",
          "text": [
            "Digite um numero: 21\n",
            "Digite outro numero: 2\n",
            "Digite outro numero: 5\n",
            "O maior número é: 21.0\n",
            "O menor número é: 2.0\n"
          ]
        }
      ]
    },
    {
      "cell_type": "code",
      "metadata": {
        "id": "k0FC_sLn2_P3"
      },
      "source": [
        "#Maior e menor número 3° Forma\n",
        "x = 0\n",
        "a = float(input(\"Digite um número: \"))\n",
        "y = a\n",
        "if a > x:\n",
        "  x = a\n",
        "\n",
        "b = float(input(\"Digite um número: \"))\n",
        "if b > x:\n",
        "  x = b\n",
        "elif b < y:\n",
        "  y = b \n",
        "\n",
        "c = float(input(\"Digite um número: \"))\n",
        "if c > x:\n",
        "  x = c\n",
        "elif c < y:\n",
        "  y = c \n",
        "print(\"O maior número: \",x)\n",
        "print(\"Menor número: \",y)"
      ],
      "execution_count": null,
      "outputs": []
    },
    {
      "cell_type": "code",
      "metadata": {
        "id": "97ekVR0w3F3p"
      },
      "source": [
        ""
      ],
      "execution_count": null,
      "outputs": []
    },
    {
      "cell_type": "code",
      "metadata": {
        "colab": {
          "base_uri": "https://localhost:8080/"
        },
        "id": "OU6uU3AZ54ep",
        "outputId": "7276c5b5-e313-413e-b7e5-44316ecd8df8"
      },
      "source": [
        "#Faça um Programa que peça 2 números inteiros e um número real. Calcule e mostre:\n",
        "#O produto do dobro do primeiro com metade do segundo .\n",
        "#A soma do triplo do primeiro com o terceiro.\n",
        "#O terceiro elevado ao cubo.\n",
        "\n",
        "num1 = int(input(\"Digite um número inteiro! \"))\n",
        "num2 = int(input(\"Digite outro número inteiro! \"))\n",
        "num3 = float(input(\"Digite um número real! \"))\n",
        "produto = (num2/2) * (num1*2)\n",
        "soma = (3*num1) + num3\n",
        "elevado = num3**2\n",
        "print(f\"Em sequência das requesições: produto: {produto}, soma: {soma} e elevado: {elevado}\")"
      ],
      "execution_count": null,
      "outputs": [
        {
          "output_type": "stream",
          "name": "stdout",
          "text": [
            "Digite um número inteiro! 2\n",
            "Digite outro número inteiro! 4\n",
            "Digite um número real! 5\n",
            "Em sequência das requesições: produto: 8.0, soma: 11.0 e elevado: 25.0\n"
          ]
        }
      ]
    },
    {
      "cell_type": "code",
      "metadata": {
        "colab": {
          "base_uri": "https://localhost:8080/"
        },
        "id": "R43w4RLg9csB",
        "outputId": "9bb5321d-327f-4c73-9b31-0e275635e36a"
      },
      "source": [
        "#Tendo como dados de entrada a altura de uma pessoa, construa um algoritmo que calcule seu peso ideal, usando a seguinte fórmula: (72.7*altura) - 58\n",
        "altura = float(input(\"Quanto é a sua altura? \"))\n",
        "peso_ideal = (72.7 * altura) - 58\n",
        "print(f\"Seu peso ideal é: {peso_ideal}\")"
      ],
      "execution_count": null,
      "outputs": [
        {
          "output_type": "stream",
          "name": "stdout",
          "text": [
            "Quanto é a sua altura? 1.80\n",
            "Seu peso ideal é: 72.86000000000001\n"
          ]
        }
      ]
    },
    {
      "cell_type": "code",
      "metadata": {
        "colab": {
          "base_uri": "https://localhost:8080/"
        },
        "id": "PwsqJcUYAAKo",
        "outputId": "f72b9271-cc76-4e7c-85f6-d2f10eb12ae9"
      },
      "source": [
        "#João Papo-de-Pescador, homem de bem, comprou um microcomputador para controlar o rendimento diário de seu trabalho.\n",
        "#Toda vez que ele traz um peso de peixes maior que o estabelecido pelo regulamento de pesca do estado de São Paulo (50 quilos) deve pagar uma multa de R$ 4,00 por quilo excedente.\n",
        "#João precisa que você faça um programa que leia a variável peso (peso de peixes) e calcule o excesso.\n",
        "#Gravar na variável excesso a quantidade de quilos além do limite e na variável multa o valor da multa que João deverá pagar. Imprima os dados do programa com as mensagens adequadas.\n",
        "peso = float(input(\"Digite o peso do peixe: \"))\n",
        "limite = 50 \n",
        "if limite < peso:\n",
        "  excesso = peso - limite\n",
        "  extra = excesso * 4\n",
        "  total = extra + peso\n",
        "  print(f\"Você deve pagar R${total} porque a multa deu: {extra}\")\n",
        "else:\n",
        "  print(f\"Você não deve pagar nada pela multa\")"
      ],
      "execution_count": null,
      "outputs": [
        {
          "output_type": "stream",
          "name": "stdout",
          "text": [
            "Digite o peso do peixe: 52\n",
            "Você deve pagar R$60.0 porque a multa deu: 8.0\n"
          ]
        }
      ]
    },
    {
      "cell_type": "code",
      "metadata": {
        "colab": {
          "base_uri": "https://localhost:8080/"
        },
        "id": "UOoFWjtuCDhB",
        "outputId": "f87d8991-0efe-4e83-acc0-f83e5c51cf73"
      },
      "source": [
        "#Faça um Programa que pergunte quanto você ganha por hora e o número de horas trabalhadas no mês. \n",
        "#Calcule e mostre o total do seu salário no referido mês, sabendo-se que são descontados 11% para o Imposto de Renda, 8% para o INSS e 5% para o sindicato, faça um programa que nos dê:\n",
        "#salário bruto.\n",
        "#quanto pagou ao INSS.\n",
        "#quanto pagou ao sindicato.\n",
        "#o salário líquido.\n",
        "#calcule os descontos e o salário líquido, conforme a tabela abaixo:\n",
        "# + Salário Bruto : R$\n",
        "#- IR (11%) : R$\n",
        "#- INSS (8%) : R$\n",
        "#- Sindicato ( 5%) : R$\n",
        "#= Salário Liquido : R$\n",
        "#Obs.: Salário Bruto - Descontos = Salário Líquido.\n",
        "hora = float(input(\"Quantas horas você trabalha por mês? \"))\n",
        "htrabalho = float(input(\"Quanto você ganha por hora trabalhada? \"))\n",
        "salario = hora * htrabalho\n",
        "imposto1 = salario*11\n",
        "imposto2 = imposto1 / 100\n",
        "salario_imposto = salario - imposto2\n",
        "inss1 = salario_imposto * 8\n",
        "inss2 = inss1 / 100\n",
        "salario_inss = salario_imposto - inss2\n",
        "sindicato1 = salario_inss * 5\n",
        "sindicato2 = sindicato1 / 100\n",
        "salario_sindicato = salario_inss - sindicato2  \n",
        "print(f\"Você pagou R$ {salario_inss} para o inss, pagou R$ {salario_sindicato} ao sindicato\")\n",
        "#NÃO DEU CERTO, TENTAREI DE OUTRA FORMA\n"
      ],
      "execution_count": null,
      "outputs": [
        {
          "output_type": "stream",
          "name": "stdout",
          "text": [
            "Quantas horas você trabalha por mês? 500\n",
            "Quanto você ganha por hora trabalhada? 10\n",
            "Você pagou 4094.0 para o inss, pagou 3889.3 ao sindicato\n"
          ]
        }
      ]
    },
    {
      "cell_type": "code",
      "metadata": {
        "id": "a7tC-0BcIoJ6",
        "colab": {
          "base_uri": "https://localhost:8080/"
        },
        "outputId": "5bed3d78-abd0-4f1a-c8f4-ed65c31fdf1d"
      },
      "source": [
        "#Calcule e mostre o total do seu salário no referido mês, sabendo-se que são descontados 11% para o Imposto de Renda, 8% para o INSS e 5% para o sindicato\n",
        "hora = float(input(\"Quantas horas você trabalha por mês? \"))\n",
        "htrabalho = float(input(\"Quanto você ganha por hora trabalhada? \"))\n",
        "salario = hora * htrabalho\n",
        "imposto = salario * (11/100)\n",
        "inss = salario * (8/100)\n",
        "sindicato = salario * (5/100)\n",
        "liquido = salario - (imposto + inss + sindicato)\n",
        "bruto = salario\n",
        "print(f\"O seu salário bruto foi R${bruto:.2f}, você pagou R${inss:.2f} ao INSS, pagou R${sindicato:.2f} ao sindicato, pagou R${imposto:.2f} de imposto e seu salário líquido foi de R${liquido:.2f} \")  \n",
        "#Deu certoooooo!"
      ],
      "execution_count": null,
      "outputs": [
        {
          "output_type": "stream",
          "name": "stdout",
          "text": [
            "Quantas horas você trabalha por mês? 50\n",
            "Quanto você ganha por hora trabalhada? 10\n",
            "O seu salário bruto foi R$500.00, você pagou R$40.00 ao INSS , pagou R$25.00 ao sindicato, pagou R$55.00 de imposto e seu salário líquido foi de R$380.00 \n"
          ]
        }
      ]
    },
    {
      "cell_type": "code",
      "metadata": {
        "id": "kTirdxcWO-Vf"
      },
      "source": [
        "#Faça um programa para uma loja de tintas.\n",
        "#O programa deverá pedir o tamanho em metros quadrados da área a ser pintada.\n",
        "#Considere que a cobertura da tinta é de 1 litro para cada 3 metros quadrados e que a tinta é vendida em latas de 18 litros, que custam R$ 80,00. \n",
        "#Informe ao usuário a quantidades de latas de tinta a serem compradas e o preço total.\n",
        "\n",
        "metros = float(input(\"Quantos metros quadrados da área vai ser pintado? \"))\n",
        "litros = (metros*1)/3\n",
        "lata = (litros*1)18\n",
        "preço = lata*80\n",
        "print(f\"O total pago vai ser R${preço:.2f}\")\n"
      ],
      "execution_count": null,
      "outputs": []
    },
    {
      "cell_type": "code",
      "metadata": {
        "id": "dnNqFnydiT0C"
      },
      "source": [
        "#&¨& Resolvendo...\n",
        "metros = float(input(\"Quantos metros quadrados da área vai ser pintado? \"))\n",
        "litros = (metros*1)/3\n",
        "lala = (litro % 18) != 0 \n",
        "lata = (lala*1)/18 + 1\n",
        "preço = lata*80\n",
        "print(f\"O total pago vai ser R${preço:.2f}\")"
      ],
      "execution_count": null,
      "outputs": []
    },
    {
      "cell_type": "code",
      "metadata": {
        "colab": {
          "base_uri": "https://localhost:8080/"
        },
        "id": "AHW-e2uhnoH1",
        "outputId": "b4bf9284-179c-4a5c-d082-0abd8712a77b"
      },
      "source": [
        "#Faça um programa que peça o tamanho de um arquivo para download (em MB) e a velocidade de um link de Internet (em Mbps), calcule e informe o tempo aproximado de download do arquivo usando este link (em minutos).\n",
        "tamanho = float(input(\"Digite o tamanho do arquivo para download (em MB): \"))\n",
        "velocidade = float(input(\"Digite a velocidade de um link de Internet para download (em Mbps): \"))\n",
        "tempo = tamanho * velocidade\n",
        "print(f\"A velocidade em minutos do download é de {tempo} mb/m\")"
      ],
      "execution_count": 47,
      "outputs": [
        {
          "output_type": "stream",
          "name": "stdout",
          "text": [
            "Digite o tamanho do arquivo para download (em MB): 41\n",
            "Digite a velocidade de um link de Internet para download (em Mbps): 50\n",
            "A velocidade em minutos do download é de 2050.0 mb/m\n"
          ]
        }
      ]
    }
  ]
}