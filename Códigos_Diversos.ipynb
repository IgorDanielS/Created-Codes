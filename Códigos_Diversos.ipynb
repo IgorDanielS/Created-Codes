{
  "nbformat": 4,
  "nbformat_minor": 0,
  "metadata": {
    "colab": {
      "name": "Códigos Diversos",
      "provenance": [],
      "collapsed_sections": [],
      "authorship_tag": "ABX9TyMCgi+lr1xaN4QRUXdzlyY3",
      "include_colab_link": true
    },
    "kernelspec": {
      "display_name": "Python 3",
      "name": "python3"
    },
    "language_info": {
      "name": "python"
    }
  },
  "cells": [
    {
      "cell_type": "markdown",
      "metadata": {
        "id": "view-in-github",
        "colab_type": "text"
      },
      "source": [
        "<a href=\"https://colab.research.google.com/github/IgorDaniel182/Created-Codes/blob/main/C%C3%B3digos_Diversos.ipynb\" target=\"_parent\"><img src=\"https://colab.research.google.com/assets/colab-badge.svg\" alt=\"Open In Colab\"/></a>"
      ]
    },
    {
      "cell_type": "code",
      "metadata": {
        "colab": {
          "background_save": true,
          "base_uri": "https://localhost:8080/"
        },
        "id": "L3wzW81FG5Z0",
        "outputId": "073ee825-b164-490a-d87d-a00af7594a0b"
      },
      "source": [
        "\n",
        "nsorte = float(input(\"Bom dia, coloque aqui seu numero da sorte\" \"\\n\" \"Se o número conter virgula, por favor, acrescente o .(ponto) ao invés de ,(virgula)\" \"\\n\" \"Psiu! A quantidade não importa!\" \"\\n\" ))\n",
        "nome = input(\"Ok, agora temos um número importante para você, peço agora que você digite o nome da pessoa que você ama:\" \"\\n\")\n",
        "simbol = input(\"Com essas informações sabemos um pouco sobre você, preciso agora que você escolha um símbolo\" \"\\n\" \"Pode ser qualquer um, até mesmo um &, se quiser \")\n",
        "print(\"Sabemos com isso que seu número da sorte é :\" ,nsorte , \"e que a pessoa que você ama, se chama: \" ,nome , \"e que o simbolo que você escolheu é o: \" ,simbol)"
      ],
      "execution_count": null,
      "outputs": [
        {
          "name": "stdout",
          "output_type": "stream",
          "text": [
            "Sabemos com isso que seu número da sorte é : 7.0 e que a pessoa que você ama, se chama:  i e que o simbolo que você escolheu é o:  c\n"
          ]
        }
      ]
    },
    {
      "cell_type": "code",
      "metadata": {
        "id": "ZT7AeI8ohQi3"
      },
      "source": [
        "#Calculadora\n",
        "a = int(input(\"Escolha um numero: \"))\n",
        "b = int(input(\"Escolha outro numero: \"))\n",
        "y = a + b\n",
        "x = a - b\n",
        "w = a * b\n",
        "k = a / b\n",
        "\n",
        "print(\"------Resultados------\" \"\\n\",a, \"+\" ,b, \"=\" ,y,\"\\n\",a, \"-\" ,b, \"=\" ,x,\"\\n\",a,\"X\",b, \"=\" ,w,\"\\n\",a,\"/\",b, \"=\" ,k)"
      ],
      "execution_count": null,
      "outputs": []
    },
    {
      "cell_type": "code",
      "metadata": {
        "id": "QZo2PVmuhNll"
      },
      "source": [
        "ano = int(input(\"Qual foi o ano que você nasceu? \"))\n",
        "ano_atual = int(input(\"Em que ano estamos? \"))\n",
        "idade = ano_atual - ano\n",
        "idade_casamento = int(input(\"Com quantos anos você pretendem se casar? \"))\n",
        "casamento = idade_casamento - idade\n",
        "if casamento < 6:\n",
        "  print(f\"Você vai se casar daqui a {casamento} anos! Melhor se preparar...\")\n",
        "elif casamento < 2:\n",
        "  print(f\"SE ARRUMA LOGO QUE DAQUI A POUCO É TEU CASAMENTO CRIATURA!\")\n",
        "elif casamento > 6:\n",
        "  print(f\"Eita, ainda cedo para organizar, já que o casamento vai ser daqui a {casamento} anos!\")"
      ],
      "execution_count": null,
      "outputs": []
    }
  ]
}